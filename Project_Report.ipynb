{
 "cells": [
  {
   "cell_type": "markdown",
   "id": "a3db4944-3076-4f91-b3ba-b686c083ee4e",
   "metadata": {},
   "source": [
    "Will this pull???"
   ]
  },
  {
   "cell_type": "code",
   "execution_count": null,
   "id": "c6d95ac4-a9ec-43af-9ac7-9fa02c67a3f0",
   "metadata": {},
   "outputs": [],
   "source": []
  }
 ],
 "metadata": {
  "kernelspec": {
   "display_name": "Python 3 (ipykernel)",
   "language": "python",
   "name": "python3"
  },
  "language_info": {
   "codemirror_mode": {
    "name": "ipython",
    "version": 3
   },
   "file_extension": ".py",
   "mimetype": "text/x-python",
   "name": "python",
   "nbconvert_exporter": "python",
   "pygments_lexer": "ipython3",
   "version": "3.11.5"
  }
 },
 "nbformat": 4,
 "nbformat_minor": 5
}
